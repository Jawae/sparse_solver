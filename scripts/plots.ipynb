{
 "cells": [
  {
   "cell_type": "code",
   "execution_count": 18,
   "metadata": {},
   "outputs": [],
   "source": [
    "import matplotlib.pyplot as plt\n",
    "import pandas as pd\n",
    "import numpy as np\n",
    "plt.rcParams['figure.figsize'] = 10, 10"
   ]
  },
  {
   "cell_type": "code",
   "execution_count": 20,
   "metadata": {},
   "outputs": [
    {
     "name": "stdout",
     "output_type": "stream",
     "text": [
      "812\n"
     ]
    },
    {
     "data": {
      "text/html": [
       "<div>\n",
       "<style>\n",
       "    .dataframe thead tr:only-child th {\n",
       "        text-align: right;\n",
       "    }\n",
       "\n",
       "    .dataframe thead th {\n",
       "        text-align: left;\n",
       "    }\n",
       "\n",
       "    .dataframe tbody tr th {\n",
       "        vertical-align: top;\n",
       "    }\n",
       "</style>\n",
       "<table border=\"1\" class=\"dataframe\">\n",
       "  <thead>\n",
       "    <tr style=\"text-align: right;\">\n",
       "      <th></th>\n",
       "      <th>algo</th>\n",
       "      <th>sym_num</th>\n",
       "      <th>threads</th>\n",
       "      <th>time</th>\n",
       "    </tr>\n",
       "  </thead>\n",
       "  <tbody>\n",
       "    <tr>\n",
       "      <th>0</th>\n",
       "      <td>lsolve_reachset</td>\n",
       "      <td>symbolic</td>\n",
       "      <td>1</td>\n",
       "      <td>0.047757</td>\n",
       "    </tr>\n",
       "    <tr>\n",
       "      <th>1</th>\n",
       "      <td>lsolve_reachset</td>\n",
       "      <td>numeric</td>\n",
       "      <td>1</td>\n",
       "      <td>0.011877</td>\n",
       "    </tr>\n",
       "    <tr>\n",
       "      <th>2</th>\n",
       "      <td>lsolve_eigen</td>\n",
       "      <td>numeric</td>\n",
       "      <td>1</td>\n",
       "      <td>0.009183</td>\n",
       "    </tr>\n",
       "    <tr>\n",
       "      <th>3</th>\n",
       "      <td>lsolve_eigen_par</td>\n",
       "      <td>numeric</td>\n",
       "      <td>1</td>\n",
       "      <td>0.024446</td>\n",
       "    </tr>\n",
       "    <tr>\n",
       "      <th>4</th>\n",
       "      <td>lsolve_simple</td>\n",
       "      <td>numeric</td>\n",
       "      <td>1</td>\n",
       "      <td>0.015366</td>\n",
       "    </tr>\n",
       "  </tbody>\n",
       "</table>\n",
       "</div>"
      ],
      "text/plain": [
       "               algo   sym_num  threads      time\n",
       "0   lsolve_reachset  symbolic        1  0.047757\n",
       "1   lsolve_reachset   numeric        1  0.011877\n",
       "2      lsolve_eigen   numeric        1  0.009183\n",
       "3  lsolve_eigen_par   numeric        1  0.024446\n",
       "4     lsolve_simple   numeric        1  0.015366"
      ]
     },
     "execution_count": 20,
     "metadata": {},
     "output_type": "execute_result"
    }
   ],
   "source": [
    "filename = \"torso\"\n",
    "df0 = pd.read_csv(filename, sep=\",\", header=None, names=[\"algo\", \"sym_num\", \"threads\", \"time\"], skipinitialspace=True,\n",
    "                  dtype = {\"algo\": str, \"sym_num\": str, \"threads\": int, \"time\": float}, skipfooter=1, engine='python')\n",
    "df0['sym_num'] = df0['sym_num'].astype(str)\n",
    "print(df0.size)\n",
    "df0.head()"
   ]
  },
  {
   "cell_type": "code",
   "execution_count": 22,
   "metadata": {},
   "outputs": [
    {
     "data": {
      "text/html": [
       "<div>\n",
       "<style>\n",
       "    .dataframe thead tr:only-child th {\n",
       "        text-align: right;\n",
       "    }\n",
       "\n",
       "    .dataframe thead th {\n",
       "        text-align: left;\n",
       "    }\n",
       "\n",
       "    .dataframe tbody tr th {\n",
       "        vertical-align: top;\n",
       "    }\n",
       "</style>\n",
       "<table border=\"1\" class=\"dataframe\">\n",
       "  <thead>\n",
       "    <tr style=\"text-align: right;\">\n",
       "      <th></th>\n",
       "      <th>algo</th>\n",
       "      <th>sym_num</th>\n",
       "      <th>threads</th>\n",
       "      <th>time</th>\n",
       "    </tr>\n",
       "  </thead>\n",
       "  <tbody>\n",
       "    <tr>\n",
       "      <th>0</th>\n",
       "      <td>lsolve_eigen</td>\n",
       "      <td>numeric</td>\n",
       "      <td>1</td>\n",
       "      <td>0.011683</td>\n",
       "    </tr>\n",
       "    <tr>\n",
       "      <th>1</th>\n",
       "      <td>lsolve_eigen</td>\n",
       "      <td>symbolic</td>\n",
       "      <td>1</td>\n",
       "      <td>0.000000</td>\n",
       "    </tr>\n",
       "    <tr>\n",
       "      <th>2</th>\n",
       "      <td>lsolve_eigen_par</td>\n",
       "      <td>numeric</td>\n",
       "      <td>1</td>\n",
       "      <td>0.026988</td>\n",
       "    </tr>\n",
       "    <tr>\n",
       "      <th>3</th>\n",
       "      <td>lsolve_eigen_par</td>\n",
       "      <td>numeric</td>\n",
       "      <td>2</td>\n",
       "      <td>0.058491</td>\n",
       "    </tr>\n",
       "    <tr>\n",
       "      <th>4</th>\n",
       "      <td>lsolve_eigen_par</td>\n",
       "      <td>numeric</td>\n",
       "      <td>3</td>\n",
       "      <td>0.043684</td>\n",
       "    </tr>\n",
       "    <tr>\n",
       "      <th>5</th>\n",
       "      <td>lsolve_eigen_par</td>\n",
       "      <td>numeric</td>\n",
       "      <td>4</td>\n",
       "      <td>0.079628</td>\n",
       "    </tr>\n",
       "    <tr>\n",
       "      <th>6</th>\n",
       "      <td>lsolve_eigen_par</td>\n",
       "      <td>symbolic</td>\n",
       "      <td>1</td>\n",
       "      <td>0.000000</td>\n",
       "    </tr>\n",
       "    <tr>\n",
       "      <th>7</th>\n",
       "      <td>lsolve_reachset</td>\n",
       "      <td>numeric</td>\n",
       "      <td>1</td>\n",
       "      <td>0.012834</td>\n",
       "    </tr>\n",
       "    <tr>\n",
       "      <th>8</th>\n",
       "      <td>lsolve_reachset</td>\n",
       "      <td>symbolic</td>\n",
       "      <td>1</td>\n",
       "      <td>0.046375</td>\n",
       "    </tr>\n",
       "    <tr>\n",
       "      <th>9</th>\n",
       "      <td>lsolve_simple</td>\n",
       "      <td>numeric</td>\n",
       "      <td>1</td>\n",
       "      <td>0.022292</td>\n",
       "    </tr>\n",
       "    <tr>\n",
       "      <th>10</th>\n",
       "      <td>lsolve_simple</td>\n",
       "      <td>symbolic</td>\n",
       "      <td>1</td>\n",
       "      <td>0.000000</td>\n",
       "    </tr>\n",
       "  </tbody>\n",
       "</table>\n",
       "</div>"
      ],
      "text/plain": [
       "                algo   sym_num  threads      time\n",
       "0       lsolve_eigen   numeric        1  0.011683\n",
       "1       lsolve_eigen  symbolic        1  0.000000\n",
       "2   lsolve_eigen_par   numeric        1  0.026988\n",
       "3   lsolve_eigen_par   numeric        2  0.058491\n",
       "4   lsolve_eigen_par   numeric        3  0.043684\n",
       "5   lsolve_eigen_par   numeric        4  0.079628\n",
       "6   lsolve_eigen_par  symbolic        1  0.000000\n",
       "7    lsolve_reachset   numeric        1  0.012834\n",
       "8    lsolve_reachset  symbolic        1  0.046375\n",
       "9      lsolve_simple   numeric        1  0.022292\n",
       "10     lsolve_simple  symbolic        1  0.000000"
      ]
     },
     "execution_count": 22,
     "metadata": {},
     "output_type": "execute_result"
    }
   ],
   "source": [
    "df = pd.DataFrame(df0.groupby([\"algo\", \"sym_num\", \"threads\"], as_index=False)[\"time\"].mean()).sort_values(\"algo\")\n",
    "df"
   ]
  },
  {
   "cell_type": "code",
   "execution_count": 23,
   "metadata": {},
   "outputs": [
    {
     "data": {
      "text/plain": [
       "{'algo': ['lsolve_eigen',\n",
       "  'lsolve_eigen_par',\n",
       "  'lsolve_reachset',\n",
       "  'lsolve_simple'],\n",
       " 'numeric': [0.01168302295,\n",
       "  0.026987989700000003,\n",
       "  0.012834323649999998,\n",
       "  0.022292479924999997],\n",
       " 'symbolic': [0.0, 0.0, 0.046374648099999992, 0.0]}"
      ]
     },
     "execution_count": 23,
     "metadata": {},
     "output_type": "execute_result"
    }
   ],
   "source": [
    "data = {\n",
    "    \"algo\": [],\n",
    "    \"symbolic\": [],\n",
    "    \"numeric\": []\n",
    "}\n",
    "\n",
    "for i, ((algo), group) in enumerate(df.groupby([\"algo\"])):\n",
    "    data[\"algo\"].append(algo)\n",
    "    for j, ((symnum), subgroup) in enumerate(group.groupby([\"sym_num\"])):\n",
    "        data[symnum].append(list(subgroup[\"time\"])[0])\n",
    "\n",
    "data"
   ]
  },
  {
   "cell_type": "code",
   "execution_count": 24,
   "metadata": {},
   "outputs": [
    {
     "data": {
      "text/plain": [
       "{'algo': ['lsolve_eigen',\n",
       "  'lsolve_eigen_par',\n",
       "  'lsolve_reachset',\n",
       "  'lsolve_simple'],\n",
       " 'numeric': [11683.02295,\n",
       "  26987.989700000002,\n",
       "  12834.323649999998,\n",
       "  22292.479924999996],\n",
       " 'symbolic': [0.0, 0.0, 46374.648099999991, 0.0]}"
      ]
     },
     "execution_count": 24,
     "metadata": {},
     "output_type": "execute_result"
    }
   ],
   "source": [
    "multiplier = 1000000\n",
    "for k in [\"symbolic\", \"numeric\"]:\n",
    "    data[k] = list(map(lambda x: x*multiplier, data[k]))\n",
    "data"
   ]
  },
  {
   "cell_type": "code",
   "execution_count": 25,
   "metadata": {},
   "outputs": [
    {
     "data": {
      "image/png": "[encoded data removed]",
      "text/plain": [
       "<matplotlib.figure.Figure at 0x110d926a0>"
      ]
     },
     "metadata": {},
     "output_type": "display_data"
    }
   ],
   "source": [
    "\n",
    "N = len(data[\"algo\"])\n",
    "x = np.arange(N)\n",
    "w = 0.35\n",
    "\n",
    "p1 = plt.bar(x, data[\"numeric\"], w)\n",
    "p2 = plt.bar(x, data[\"symbolic\"], w, bottom=data[\"numeric\"])\n",
    "\n",
    "plt.ylabel('Runtime (microseconds)')\n",
    "plt.xticks(x, data[\"algo\"])\n",
    "plt.ylim(0, max(data[\"numeric\"] + data[\"symbolic\"]))\n",
    "plt.legend((p1[0], p2[0]), ('numeric', 'symbolic'))\n",
    "plt.grid()\n",
    "\n",
    "plt.show()\n"
   ]
  },
  {
   "cell_type": "code",
   "execution_count": null,
   "metadata": {
    "collapsed": true
   },
   "outputs": [],
   "source": []
  }
 ],
 "metadata": {
  "kernelspec": {
   "display_name": "Python 3",
   "language": "python",
   "name": "python3"
  },
  "language_info": {
   "codemirror_mode": {
    "name": "ipython",
    "version": 3
   },
   "file_extension": ".py",
   "mimetype": "text/x-python",
   "name": "python",
   "nbconvert_exporter": "python",
   "pygments_lexer": "ipython3",
   "version": "3.6.1"
  }
 },
 "nbformat": 4,
 "nbformat_minor": 2
}
