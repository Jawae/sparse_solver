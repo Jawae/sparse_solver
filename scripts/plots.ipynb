{
 "cells": [
  {
   "cell_type": "code",
   "execution_count": null,
   "metadata": {
    "collapsed": true
   },
   "outputs": [],
   "source": [
    "import matplotlib.pyplot as plt\n",
    "import pandas as pd\n",
    "import numpy as np\n",
    "plt.rcParams['figure.figsize'] = 10, 10"
   ]
  },
  {
   "cell_type": "code",
   "execution_count": null,
   "metadata": {},
   "outputs": [],
   "source": [
    "filename = \"tsopf_O0\"\n",
    "df0 = pd.read_csv(filename, sep=\",\", header=None, names=[\"algo\", \"sym_num\", \"threads\", \"time\"], skipinitialspace=True,\n",
    "                  dtype = {\"algo\": str, \"sym_num\": str, \"threads\": int, \"time\": float}, skipfooter=1, engine='python')\n",
    "df0['sym_num'] = df0['sym_num'].astype(str)\n",
    "print(df0.size)\n",
    "df0.head()"
   ]
  },
  {
   "cell_type": "code",
   "execution_count": null,
   "metadata": {},
   "outputs": [],
   "source": [
    "df = pd.DataFrame(df0.groupby([\"algo\", \"sym_num\", \"threads\"], as_index=False)[\"time\"].mean()).sort_values(\"algo\")\n",
    "df"
   ]
  },
  {
   "cell_type": "code",
   "execution_count": null,
   "metadata": {},
   "outputs": [],
   "source": [
    "data = {\n",
    "    \"algo\": [],\n",
    "    \"symbolic\": [],\n",
    "    \"numeric\": []\n",
    "}\n",
    "\n",
    "for i, ((algo), group) in enumerate(df.groupby([\"algo\"])):\n",
    "    data[\"algo\"].append(algo)\n",
    "    for j, ((symnum), subgroup) in enumerate(group.groupby([\"sym_num\"])):\n",
    "        data[symnum].append(list(subgroup[\"time\"])[0])\n",
    "\n",
    "data"
   ]
  },
  {
   "cell_type": "code",
   "execution_count": null,
   "metadata": {},
   "outputs": [],
   "source": [
    "multiplier = 1000000\n",
    "for k in [\"symbolic\", \"numeric\"]:\n",
    "    data[k] = list(map(lambda x: x*multiplier, data[k]))\n",
    "data"
   ]
  },
  {
   "cell_type": "code",
   "execution_count": null,
   "metadata": {},
   "outputs": [],
   "source": [
    "# normalize to simple\n",
    "lsolve_simple_idx = data[\"algo\"].index(\"lsolve_simple\")\n",
    "lsolve_simple_time = data[\"numeric\"][lsolve_simple_idx]\n",
    "data[\"numeric\"] = [x / lsolve_simple_time for x in data[\"numeric\"]]\n",
    "data[\"symbolic\"] = [x / lsolve_simple_time for x in data[\"symbolic\"]]\n",
    "data[\"algo\"][data[\"algo\"].index(f\"lsolve_reachset_s_tsopf\")] = \"lsolve_reachset_tsopf\""
   ]
  },
  {
   "cell_type": "code",
   "execution_count": null,
   "metadata": {},
   "outputs": [],
   "source": [
    "\n",
    "N = len(data[\"algo\"])\n",
    "x = np.arange(N)\n",
    "w = 0.35\n",
    "\n",
    "p1 = plt.bar(x, data[\"numeric\"], w)\n",
    "p2 = plt.bar(x, data[\"symbolic\"], w, bottom=data[\"numeric\"])\n",
    "\n",
    "plt.title(f\"Runtime for methods on {filename}\")\n",
    "plt.ylabel('Runtime (microseconds)')\n",
    "plt.xticks(x, data[\"algo\"])\n",
    "plt.ylim(0, 1.2*max(data[\"numeric\"] + data[\"symbolic\"]))\n",
    "plt.legend((p1[0], p2[0]), ('numeric', 'symbolic'))\n",
    "plt.grid()\n",
    "\n",
    "plt.show()\n"
   ]
  },
  {
   "cell_type": "code",
   "execution_count": null,
   "metadata": {},
   "outputs": [],
   "source": [
    "# plt.savefig(f\"../report/assets/runtime_{filename}.png\", bbox_inches='tight')"
   ]
  },
  {
   "cell_type": "code",
   "execution_count": null,
   "metadata": {
    "collapsed": true
   },
   "outputs": [],
   "source": []
  }
 ],
 "metadata": {
  "kernelspec": {
   "display_name": "Python 3",
   "language": "python",
   "name": "python3"
  },
  "language_info": {
   "codemirror_mode": {
    "name": "ipython",
    "version": 3
   },
   "file_extension": ".py",
   "mimetype": "text/x-python",
   "name": "python",
   "nbconvert_exporter": "python",
   "pygments_lexer": "ipython3",
   "version": "3.6.1"
  }
 },
 "nbformat": 4,
 "nbformat_minor": 2
}
